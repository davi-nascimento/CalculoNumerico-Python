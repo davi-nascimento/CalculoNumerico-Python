{
  "nbformat": 4,
  "nbformat_minor": 0,
  "metadata": {
    "colab": {
      "name": "factoring_methods.ipynb",
      "version": "0.3.2",
      "provenance": [],
      "collapsed_sections": [],
      "include_colab_link": true
    },
    "kernelspec": {
      "name": "python3",
      "display_name": "Python 3"
    }
  },
  "cells": [
    {
      "cell_type": "markdown",
      "metadata": {
        "id": "view-in-github",
        "colab_type": "text"
      },
      "source": [
        "<a href=\"https://colab.research.google.com/github/davicn/CalculoNumerico-Python/blob/master/factoring_methods.ipynb\" target=\"_parent\"><img src=\"https://colab.research.google.com/assets/colab-badge.svg\" alt=\"Open In Colab\"/></a>"
      ]
    },
    {
      "metadata": {
        "id": "haXOQQaQyYAw",
        "colab_type": "text"
      },
      "cell_type": "markdown",
      "source": [
        "# Métodos de Fatoração"
      ]
    },
    {
      "metadata": {
        "id": "_tWtf8Cqyiff",
        "colab_type": "text"
      },
      "cell_type": "markdown",
      "source": [
        "## Eliminição Gaussiana "
      ]
    },
    {
      "metadata": {
        "id": "diVRkW2U_Bn3",
        "colab_type": "code",
        "colab": {
          "base_uri": "https://localhost:8080/",
          "height": 71
        },
        "outputId": "9f4edf26-9d88-457a-85a4-a6673c7f8c9e"
      },
      "cell_type": "code",
      "source": [
        "import numpy as np\n",
        "\n",
        "def eg(M):\n",
        "\tn = len(M)\n",
        "\tfor i in range(n):\n",
        "\t\tfor j in range(i+1,n):\n",
        "\t\t\tm = -M[j,i]/M[i,i]\n",
        "\t\t\tfor k in range(i,n):\n",
        "\t\t\t\tM[j,k] += m*M[i,k]\t\t\t\n",
        "\treturn M\n",
        "\n",
        "m = np.array([[2,-1,1],[3,3,9],[3,3,5]])\n",
        "eg(m)"
      ],
      "execution_count": 43,
      "outputs": [
        {
          "output_type": "execute_result",
          "data": {
            "text/plain": [
              "array([[ 2, -1,  1],\n",
              "       [ 0,  4,  7],\n",
              "       [ 0,  0, -4]])"
            ]
          },
          "metadata": {
            "tags": []
          },
          "execution_count": 43
        }
      ]
    },
    {
      "metadata": {
        "id": "YQobsAKFys0V",
        "colab_type": "text"
      },
      "cell_type": "markdown",
      "source": [
        "## Fatoração LU"
      ]
    },
    {
      "metadata": {
        "id": "NiuGn52my_e0",
        "colab_type": "code",
        "colab": {
          "base_uri": "https://localhost:8080/",
          "height": 179
        },
        "outputId": "71d58a0b-c991-4364-bdc4-8b9dd7f4d51e"
      },
      "cell_type": "code",
      "source": [
        "import numpy as np\n",
        "\n",
        "def LU(A):  \n",
        "    U = np.copy(A)  \n",
        "    n = np.shape(U)[0]  \n",
        "    L = np.eye(n)  \n",
        "    for j in np.arange(n-1):  \n",
        "        for i in np.arange(j+1,n):  \n",
        "            L[i,j] = U[i,j]/U[j,j]  \n",
        "            for k in np.arange(j+1,n):  \n",
        "                U[i,k] = U[i,k] - L[i,j]*U[j,k]  \n",
        "            U[i,j] = 0  \n",
        "    return L, U\n",
        "\n",
        "m = np.array([[2,-1,1],[3,3,9],[3,3,5]])\n",
        "print(m)\n",
        "\n",
        "L,U = LU(m)\n",
        "\n",
        "print(L)\n",
        "print(U)"
      ],
      "execution_count": 23,
      "outputs": [
        {
          "output_type": "stream",
          "text": [
            "[[ 2 -1  1]\n",
            " [ 3  3  9]\n",
            " [ 3  3  5]]\n",
            "[[1.  0.  0. ]\n",
            " [1.5 1.  0. ]\n",
            " [1.5 1.  1. ]]\n",
            "[[ 2 -1  1]\n",
            " [ 0  4  7]\n",
            " [ 0  0 -4]]\n"
          ],
          "name": "stdout"
        }
      ]
    },
    {
      "metadata": {
        "id": "Vkke8Aljyv4l",
        "colab_type": "text"
      },
      "cell_type": "markdown",
      "source": [
        "## Fatoração de Cholesky"
      ]
    },
    {
      "metadata": {
        "id": "3h_HMiCB1ZFM",
        "colab_type": "code",
        "colab": {
          "base_uri": "https://localhost:8080/",
          "height": 71
        },
        "outputId": "aecb95d4-62ef-463c-f839-3a83ea6b7578"
      },
      "cell_type": "code",
      "source": [
        "import numpy as np\n",
        "\n",
        "def cholesky(A):\n",
        "    L = np.zeros((len(A),len(A)))\n",
        "    for i, (Ai,Li) in enumerate(zip(A,L)):\n",
        "        for j, Lj in enumerate(L[:i+1]):\n",
        "            s = sum(Li[k]*Lj[k] for k in range(j))\n",
        "            if i==j:\n",
        "                Li[j] = np.sqrt(Ai[i]-s)\n",
        "            else:\n",
        "                Li[j] = (1.0/Lj[j] * (Ai[j]-s))           \n",
        "    return L\n",
        "\n",
        "m = np.array([[4,2,-4],[2,10,4],[-4,4,9]])\n",
        "\n",
        "cholesky(m)"
      ],
      "execution_count": 19,
      "outputs": [
        {
          "output_type": "execute_result",
          "data": {
            "text/plain": [
              "array([[ 2.,  0.,  0.],\n",
              "       [ 1.,  3.,  0.],\n",
              "       [-2.,  2.,  1.]])"
            ]
          },
          "metadata": {
            "tags": []
          },
          "execution_count": 19
        }
      ]
    },
    {
      "metadata": {
        "id": "CfXV2NeZy3Ut",
        "colab_type": "text"
      },
      "cell_type": "markdown",
      "source": [
        "## Fatoração LDL"
      ]
    },
    {
      "metadata": {
        "id": "v_d3A2Uly5Vs",
        "colab_type": "code",
        "colab": {
          "base_uri": "https://localhost:8080/",
          "height": 107
        },
        "outputId": "ce5c3161-bb24-4340-8ff0-00a93a069d75"
      },
      "cell_type": "code",
      "source": [
        "import numpy as np\n",
        "\n",
        "def ldl(A):\n",
        "    S = np.diag(np.diag(A))\n",
        "    Sinv = np.diag(1/np.diag(A))\n",
        "    D = np.matrix(S.dot(S))\n",
        "    Lch = np.linalg.cholesky(A)\n",
        "    L = np.matrix(Lch.dot(Sinv))\n",
        "    return L, D\n",
        "\n",
        "m = np.array([[4,2,-4],[2,10,4],[-4,4,9]])\n",
        "ldl(m)\n"
      ],
      "execution_count": 33,
      "outputs": [
        {
          "output_type": "execute_result",
          "data": {
            "text/plain": [
              "(matrix([[ 0.5       ,  0.        ,  0.        ],\n",
              "         [ 0.25      ,  0.3       ,  0.        ],\n",
              "         [-0.5       ,  0.2       ,  0.11111111]]), matrix([[ 16,   0,   0],\n",
              "         [  0, 100,   0],\n",
              "         [  0,   0,  81]]))"
            ]
          },
          "metadata": {
            "tags": []
          },
          "execution_count": 33
        }
      ]
    }
  ]
}