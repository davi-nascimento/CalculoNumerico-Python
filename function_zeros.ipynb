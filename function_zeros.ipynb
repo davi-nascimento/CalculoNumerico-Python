{
  "nbformat": 4,
  "nbformat_minor": 0,
  "metadata": {
    "colab": {
      "name": "function_zeros.ipynb",
      "version": "0.3.2",
      "provenance": [],
      "include_colab_link": true
    },
    "kernelspec": {
      "name": "python3",
      "display_name": "Python 3"
    }
  },
  "cells": [
    {
      "cell_type": "markdown",
      "metadata": {
        "id": "view-in-github",
        "colab_type": "text"
      },
      "source": [
        "<a href=\"https://colab.research.google.com/github/davicn/CalculoNumerico-Python/blob/master/function_zeros.ipynb\" target=\"_parent\"><img src=\"https://colab.research.google.com/assets/colab-badge.svg\" alt=\"Open In Colab\"/></a>"
      ]
    },
    {
      "metadata": {
        "id": "oMFWi79YtqL4",
        "colab_type": "text"
      },
      "cell_type": "markdown",
      "source": [
        "# Zeros de Funções"
      ]
    },
    {
      "metadata": {
        "id": "cwt1s8yYt4Ce",
        "colab_type": "text"
      },
      "cell_type": "markdown",
      "source": [
        "## Método da Bissecção"
      ]
    },
    {
      "metadata": {
        "id": "IRjwDEJnt8JO",
        "colab_type": "code",
        "colab": {
          "base_uri": "https://localhost:8080/",
          "height": 71
        },
        "outputId": "cce741ad-a001-4278-a458-aa45f1e370bd"
      },
      "cell_type": "code",
      "source": [
        "import numpy as np \n",
        "\n",
        "# Função\n",
        "f = lambda x: x-2**(-x)\n",
        "\n",
        "# Número de interações\n",
        "inter = lambda a,b,erro: 1 + int((np.log(b-a)-np.log(erro))//np.log(2))\n",
        "\n",
        "# Pontos iniciais e erros\n",
        "a,b,erro = 1,2,10**(-5)\n",
        "\n",
        "k = inter(a,b,erro)\n",
        "\n",
        "if f(a)*f(b)>0:\n",
        "    print(\"A função tem o mesmo sinal nos pontos a e b\")\n",
        "else:\n",
        "    for i in range(k):\n",
        "        x = (a+b)/2\n",
        "        ne = (b-a)/2\n",
        "\n",
        "        if f(x)==0 or ne<erro:\n",
        "            break\n",
        "        else:\n",
        "            if f(a)*f(x)<0:\n",
        "                b = x\n",
        "            else:\n",
        "                a = x\n",
        "\n",
        "print(\"Solução numérica: %f\" %x)\n",
        "print(\"Interações: %d\" %i)"
      ],
      "execution_count": 7,
      "outputs": [
        {
          "output_type": "stream",
          "text": [
            "A função tem o mesmo sinal nos pontos a e b\n",
            "Solução numérica: 0.641186\n",
            "Interações: 3\n"
          ],
          "name": "stdout"
        }
      ]
    },
    {
      "metadata": {
        "id": "bjF4WRRZuFJM",
        "colab_type": "text"
      },
      "cell_type": "markdown",
      "source": [
        "## Método da Falsa Posição"
      ]
    },
    {
      "metadata": {
        "id": "Ixg80NJnuPJ5",
        "colab_type": "code",
        "colab": {
          "base_uri": "https://localhost:8080/",
          "height": 53
        },
        "outputId": "ba955bca-8724-49ca-b2dd-8bbb1390b434"
      },
      "cell_type": "code",
      "source": [
        "import numpy as np \n",
        "\n",
        "# Função\n",
        "f = lambda x: x-2**(-x)\n",
        "\n",
        "# Número de Interações\n",
        "inter = lambda a,b,erro: 1 + int((np.log(b-a)-np.log(erro))//np.log(2))\n",
        "\n",
        "# Pontos iniciais e erro\n",
        "a,b,erro = 1,2,10**(-5)\n",
        "\n",
        "k = inter(a,b,erro)\n",
        "\n",
        "x = (a*f(b)-b*f(a))/(f(b)-f(a))\n",
        "\n",
        "for i in range(k):\n",
        "    if np.abs(f(x)) >= erro:\n",
        "        if f(a)*f(x)<0:\n",
        "            b = x\n",
        "        else:\n",
        "            a = x\n",
        "    else:\n",
        "        break\n",
        "\n",
        "print(\"Solução numérica: %f\" %x)\n",
        "print(\"Interações: %d\" %i)"
      ],
      "execution_count": 8,
      "outputs": [
        {
          "output_type": "stream",
          "text": [
            "Solução numérica: 0.600000\n",
            "Interações: 16\n"
          ],
          "name": "stdout"
        }
      ]
    },
    {
      "metadata": {
        "id": "bK-DyI_2uli_",
        "colab_type": "text"
      },
      "cell_type": "markdown",
      "source": [
        "## Método de Newton"
      ]
    },
    {
      "metadata": {
        "id": "IUo11gEsun17",
        "colab_type": "code",
        "colab": {
          "base_uri": "https://localhost:8080/",
          "height": 53
        },
        "outputId": "541f2ebf-4bcd-4a28-aaa3-6f0ea0e6bed4"
      },
      "cell_type": "code",
      "source": [
        "import numpy as np \n",
        "import mpmath as mp\n",
        "mp.dps = 15; mp.pretty = True\n",
        "\n",
        "\n",
        "f = lambda x: x-2**(-x)\n",
        "\n",
        "inter = lambda a,b,erro: 1 + int((np.log(b-a)-np.log(erro))//np.log(2))\n",
        "\n",
        "a,b,erro = 1,2,10**(-5)\n",
        "k = inter(a,b,erro)\n",
        "\n",
        "for i in range(k):\n",
        "    x = a-(f(a)/mp.diff(f,a))\n",
        "\n",
        "    if np.abs((x-a)/a)<erro:\n",
        "        break\n",
        "    a = x\n",
        "\n",
        "print(\"Solução numérica: %f\" %x)\n",
        "print(\"Interações: %d\" %i)"
      ],
      "execution_count": 9,
      "outputs": [
        {
          "output_type": "stream",
          "text": [
            "Solução numérica: 0.641186\n",
            "Interações: 3\n"
          ],
          "name": "stdout"
        }
      ]
    },
    {
      "metadata": {
        "id": "iY7ltwjNv2xn",
        "colab_type": "text"
      },
      "cell_type": "markdown",
      "source": [
        "## Método do Ponto Fixo"
      ]
    },
    {
      "metadata": {
        "id": "SiKbH0Ruv6LD",
        "colab_type": "code",
        "colab": {
          "base_uri": "https://localhost:8080/",
          "height": 53
        },
        "outputId": "6fbad5dc-9364-499e-9f52-e18931340b62"
      },
      "cell_type": "code",
      "source": [
        "import numpy as np\n",
        "\n",
        "\n",
        "#f = lambda x: x-2**(-x)\n",
        "\n",
        "# Função de interação\n",
        "g = lambda x:2**(-x)\n",
        "\n",
        "inter = lambda a,b,erro: 1 + int((np.log(b-a)-np.log(erro))//np.log(2))\n",
        "\n",
        "a,b,erro = 1,2,10**(-5)\n",
        "k = inter(a,b,erro)\n",
        "\n",
        "cont=0\n",
        "while True:\n",
        "    x = g(b)\n",
        "    if np.abs((x-b)/b)<erro:\n",
        "        break\n",
        "    b = x\n",
        "    cont+=1\n",
        "\n",
        "print(\"Solução numérica: %f\" %x)\n",
        "print(\"Interações: %d\" %cont)"
      ],
      "execution_count": 12,
      "outputs": [
        {
          "output_type": "stream",
          "text": [
            "Solução numérica: 0.641185\n",
            "Interações: 16\n"
          ],
          "name": "stdout"
        }
      ]
    },
    {
      "metadata": {
        "id": "yZkOib0-wXIq",
        "colab_type": "text"
      },
      "cell_type": "markdown",
      "source": [
        "## Método da Secante"
      ]
    },
    {
      "metadata": {
        "id": "VeEoY3MjwZ7R",
        "colab_type": "code",
        "colab": {
          "base_uri": "https://localhost:8080/",
          "height": 53
        },
        "outputId": "6fb992d1-c1b1-42f0-a70b-d7acc1d255cd"
      },
      "cell_type": "code",
      "source": [
        "import numpy as np \n",
        "\n",
        "f = lambda x: x-2**(-x)\n",
        "\n",
        "inter = lambda a,b,erro: 1 + int((np.log(b-a)-np.log(erro))//np.log(2))\n",
        "\n",
        "a,b,erro = 1,2,10**(-5)\n",
        "k = inter(a,b,erro)\n",
        "\n",
        "for i in range(k):\n",
        "\n",
        "    x = b -f(b)*(a-b)/(f(a)-f(b))\n",
        "\n",
        "    if np.abs((x-b)/b)<erro:\n",
        "        break\n",
        "    \n",
        "    a = b\n",
        "    b = x \n",
        "    \n",
        "print(\"Solução numérica: %f\" %x)\n",
        "print(\"Interações: %d\" %i)"
      ],
      "execution_count": 13,
      "outputs": [
        {
          "output_type": "stream",
          "text": [
            "Solução numérica: 0.641186\n",
            "Interações: 4\n"
          ],
          "name": "stdout"
        }
      ]
    }
  ]
}